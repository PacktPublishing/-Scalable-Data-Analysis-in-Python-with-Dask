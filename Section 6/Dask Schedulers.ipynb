{
 "cells": [
  {
   "cell_type": "code",
   "execution_count": 1,
   "metadata": {},
   "outputs": [],
   "source": [
    "from dask import delayed, compute\n",
    "import dask"
   ]
  },
  {
   "cell_type": "code",
   "execution_count": 2,
   "metadata": {},
   "outputs": [],
   "source": [
    "x = list(range(2, 20000, 2))\n",
    "y = list(range(3, 30000, 3))\n",
    "z = list(range(5, 50000, 5))\n",
    "\n",
    "final_result = []"
   ]
  },
  {
   "cell_type": "code",
   "execution_count": 3,
   "metadata": {},
   "outputs": [],
   "source": [
    "def do_something_1(x, y):\n",
    "    return x + y + 2*x*y\n",
    "\n",
    "def do_something_2(a, b):\n",
    "    return a**3 - b**3\n",
    "\n",
    "def do_something_3(p, q):\n",
    "    return p*p + q*q"
   ]
  },
  {
   "cell_type": "code",
   "execution_count": 4,
   "metadata": {},
   "outputs": [],
   "source": [
    "final_result = []\n",
    "for i in range(0, len(x)):\n",
    "    # Wrap the function calls inside delayed\n",
    "    res_1 = delayed(do_something_1)(x[i], y[i])\n",
    "    res_2 = delayed(do_something_2)(y[i], z[i])\n",
    "    res_3 = delayed(do_something_3)(res_1, res_2)\n",
    "    final_result.append(res_3)\n",
    "\n",
    "final_sum = delayed(sum)(final_result)"
   ]
  },
  {
   "cell_type": "code",
   "execution_count": 5,
   "metadata": {},
   "outputs": [
    {
     "name": "stdout",
     "output_type": "stream",
     "text": [
      "CPU times: user 10.7 s, sys: 699 ms, total: 11.4 s\n",
      "Wall time: 11 s\n"
     ]
    }
   ],
   "source": [
    "with dask.config.set(scheduler='processes'):\n",
    "    %time _ = final_sum.compute()"
   ]
  },
  {
   "cell_type": "code",
   "execution_count": 6,
   "metadata": {},
   "outputs": [
    {
     "name": "stdout",
     "output_type": "stream",
     "text": [
      "CPU times: user 1.31 s, sys: 21.4 ms, total: 1.33 s\n",
      "Wall time: 1.35 s\n"
     ]
    }
   ],
   "source": [
    "with dask.config.set(scheduler='sync'):\n",
    "    %time _ = final_sum.compute()"
   ]
  },
  {
   "cell_type": "code",
   "execution_count": 8,
   "metadata": {},
   "outputs": [
    {
     "name": "stdout",
     "output_type": "stream",
     "text": [
      "CPU times: user 1.89 s, sys: 92.4 ms, total: 1.99 s\n",
      "Wall time: 1.88 s\n"
     ]
    }
   ],
   "source": [
    "with dask.config.set(scheduler='threading'):\n",
    "    %time _ = final_sum.compute()"
   ]
  },
  {
   "cell_type": "code",
   "execution_count": null,
   "metadata": {},
   "outputs": [],
   "source": [
    "#dask.config.set(scheduler='threading'):"
   ]
  },
  {
   "cell_type": "code",
   "execution_count": 12,
   "metadata": {},
   "outputs": [],
   "source": [
    "x = [2, 4, 6, 8]\n",
    "y = [3, 6, 9, 12]\n",
    "z = [5, 10, 15, 20]\n",
    "\n",
    "final_result = []"
   ]
  },
  {
   "cell_type": "code",
   "execution_count": 21,
   "metadata": {},
   "outputs": [],
   "source": [
    "import time\n",
    "\n",
    "def do_something_1(x, y):\n",
    "    time.sleep(4)\n",
    "    return x + y + 2*x*y\n",
    "\n",
    "def do_something_2(a, b):\n",
    "    time.sleep(4)\n",
    "    return a**3 - b**3\n",
    "\n",
    "def do_something_3(p, q):\n",
    "    time.sleep(4)\n",
    "    return p*p + q*q"
   ]
  },
  {
   "cell_type": "code",
   "execution_count": 22,
   "metadata": {},
   "outputs": [],
   "source": [
    "final_result = []\n",
    "for i in range(0, len(x)):\n",
    "    # Wrap the function calls inside delayed\n",
    "    res_1 = delayed(do_something_1)(x[i], y[i])\n",
    "    res_2 = delayed(do_something_2)(y[i], z[i])\n",
    "    res_3 = delayed(do_something_3)(res_1, res_2)\n",
    "    final_result.append(res_3)\n",
    "\n",
    "final_sum = delayed(sum)(final_result)"
   ]
  },
  {
   "cell_type": "code",
   "execution_count": 23,
   "metadata": {},
   "outputs": [
    {
     "name": "stdout",
     "output_type": "stream",
     "text": [
      "CPU times: user 41 ms, sys: 33.6 ms, total: 74.6 ms\n",
      "Wall time: 8.07 s\n"
     ]
    }
   ],
   "source": [
    "with dask.config.set(scheduler='processes'):\n",
    "    %time _ = final_sum.compute()"
   ]
  },
  {
   "cell_type": "code",
   "execution_count": 24,
   "metadata": {},
   "outputs": [
    {
     "name": "stdout",
     "output_type": "stream",
     "text": [
      "CPU times: user 49.8 ms, sys: 8.32 ms, total: 58.2 ms\n",
      "Wall time: 48 s\n"
     ]
    }
   ],
   "source": [
    "with dask.config.set(scheduler='sync'):\n",
    "    %time _ = final_sum.compute()"
   ]
  },
  {
   "cell_type": "code",
   "execution_count": 25,
   "metadata": {},
   "outputs": [
    {
     "name": "stdout",
     "output_type": "stream",
     "text": [
      "CPU times: user 16.9 ms, sys: 351 µs, total: 17.3 ms\n",
      "Wall time: 8.01 s\n"
     ]
    }
   ],
   "source": [
    "with dask.config.set(scheduler='threading'):\n",
    "    %time _ = final_sum.compute()"
   ]
  },
  {
   "cell_type": "code",
   "execution_count": null,
   "metadata": {},
   "outputs": [],
   "source": []
  }
 ],
 "metadata": {
  "kernelspec": {
   "display_name": "Python 3",
   "language": "python",
   "name": "python3"
  },
  "language_info": {
   "codemirror_mode": {
    "name": "ipython",
    "version": 3
   },
   "file_extension": ".py",
   "mimetype": "text/x-python",
   "name": "python",
   "nbconvert_exporter": "python",
   "pygments_lexer": "ipython3",
   "version": "3.7.1"
  }
 },
 "nbformat": 4,
 "nbformat_minor": 2
}
