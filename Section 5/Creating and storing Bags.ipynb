{
 "cells": [
  {
   "cell_type": "markdown",
   "metadata": {},
   "source": [
    "## Creating Dask Bags"
   ]
  },
  {
   "cell_type": "markdown",
   "metadata": {},
   "source": [
    "### `read_txt` function"
   ]
  },
  {
   "cell_type": "code",
   "execution_count": 1,
   "metadata": {},
   "outputs": [],
   "source": [
    "import dask.bag as db"
   ]
  },
  {
   "cell_type": "markdown",
   "metadata": {},
   "source": [
    "###  You can specify a glob pattern to load multiple files"
   ]
  },
  {
   "cell_type": "code",
   "execution_count": 2,
   "metadata": {},
   "outputs": [],
   "source": [
    "user_data = db.read_text('multiple_csvs/gdp_part_*.csv')"
   ]
  },
  {
   "cell_type": "code",
   "execution_count": 4,
   "metadata": {},
   "outputs": [
    {
     "data": {
      "text/plain": [
       "10"
      ]
     },
     "execution_count": 4,
     "metadata": {},
     "output_type": "execute_result"
    }
   ],
   "source": [
    "user_data.npartitions"
   ]
  },
  {
   "cell_type": "code",
   "execution_count": 3,
   "metadata": {},
   "outputs": [
    {
     "data": {
      "text/plain": [
       "(',country,gdp,year\\n',\n",
       " '0,India,2650725335363.83,2017\\n',\n",
       " '1,India,2290432075123.55,2016\\n',\n",
       " '2,India,2103587813812.2,2015\\n',\n",
       " '3,India,2039127446299.3,2014\\n',\n",
       " '4,India,1856722121394.42,2013\\n',\n",
       " '5,India,1827637859136.23,2012\\n',\n",
       " '6,India,1823049927772.05,2011\\n',\n",
       " '7,India,1675615312693.42,2010\\n',\n",
       " '8,India,1341886699393.18,2009\\n')"
      ]
     },
     "execution_count": 3,
     "metadata": {},
     "output_type": "execute_result"
    }
   ],
   "source": [
    "user_data.take(10)"
   ]
  },
  {
   "cell_type": "markdown",
   "metadata": {},
   "source": [
    "### You can specify a function to map to each file while reading data"
   ]
  },
  {
   "cell_type": "markdown",
   "metadata": {},
   "source": [
    "##### Random JSON generated from : https://www.json-generator.com/"
   ]
  },
  {
   "cell_type": "code",
   "execution_count": 5,
   "metadata": {},
   "outputs": [],
   "source": [
    "import json\n",
    "user_data = db.read_text('random.json').map(json.loads)"
   ]
  },
  {
   "cell_type": "code",
   "execution_count": 6,
   "metadata": {},
   "outputs": [
    {
     "data": {
      "text/plain": [
       "([{'_id': '5cdb2669d8c733eaa48b5ed5',\n",
       "   'index': 0,\n",
       "   'guid': '627a29dd-69de-4e5b-9ae1-205d6a82432b',\n",
       "   'isActive': False,\n",
       "   'balance': '$3,330.63',\n",
       "   'picture': 'http://placehold.it/32x32',\n",
       "   'age': 34,\n",
       "   'eyeColor': 'brown',\n",
       "   'name': 'Padilla Lee',\n",
       "   'gender': 'male',\n",
       "   'company': 'ENTROFLEX',\n",
       "   'email': 'padillalee@entroflex.com',\n",
       "   'phone': '+1 (827) 527-2949',\n",
       "   'address': '951 Reeve Place, Wacissa, District Of Columbia, 2894',\n",
       "   'about': 'Non nulla fugiat id eu qui ullamco ipsum dolor proident adipisicing ut duis nulla id. Velit ullamco et reprehenderit velit fugiat sunt exercitation pariatur voluptate labore. Proident mollit qui anim dolore pariatur laborum laboris occaecat excepteur tempor labore. Exercitation sint eiusmod ad aliqua sit est laborum enim labore aute consequat cillum incididunt fugiat. Laborum fugiat mollit consectetur commodo occaecat qui magna ex aliqua sunt commodo. Velit irure duis enim ut cupidatat elit cupidatat eiusmod duis nisi in occaecat Lorem. Eiusmod adipisicing ipsum fugiat mollit labore excepteur quis minim excepteur dolor.\\r\\n',\n",
       "   'registered': '2017-05-19T11:55:59 -06:-30',\n",
       "   'latitude': -89.491552,\n",
       "   'longitude': 133.922627,\n",
       "   'tags': ['et', 'sit', 'excepteur', 'duis', 'non', 'eu', 'officia'],\n",
       "   'friends': [{'id': 0, 'name': 'Hensley Gilliam'},\n",
       "    {'id': 1, 'name': 'Brittney Lloyd'},\n",
       "    {'id': 2, 'name': 'West Bridges'}],\n",
       "   'greeting': 'Hello, Padilla Lee! You have 1 unread messages.',\n",
       "   'favoriteFruit': 'strawberry'},\n",
       "  {'_id': '5cdb266951bc7fe6cbee6f12',\n",
       "   'index': 1,\n",
       "   'guid': '46976de1-3d8c-498e-a522-907ad3f66212',\n",
       "   'isActive': False,\n",
       "   'balance': '$3,602.36',\n",
       "   'picture': 'http://placehold.it/32x32',\n",
       "   'age': 31,\n",
       "   'eyeColor': 'green',\n",
       "   'name': 'Jan Gordon',\n",
       "   'gender': 'female',\n",
       "   'company': 'HINWAY',\n",
       "   'email': 'jangordon@hinway.com',\n",
       "   'phone': '+1 (861) 523-2518',\n",
       "   'address': '922 Chester Street, Gibbsville, South Carolina, 7798',\n",
       "   'about': 'Proident ex consequat consequat labore labore veniam nisi ut. Elit fugiat consectetur deserunt occaecat velit non reprehenderit laborum eiusmod. Consectetur tempor consectetur excepteur do cillum deserunt incididunt adipisicing dolor elit reprehenderit duis consectetur. Mollit enim reprehenderit sit laborum commodo aliqua eiusmod mollit culpa cillum. Aliqua et velit labore incididunt labore nulla incididunt amet veniam sunt reprehenderit ad id. Esse ad reprehenderit et ea ex esse nostrud.\\r\\n',\n",
       "   'registered': '2014-12-25T03:41:49 -06:-30',\n",
       "   'latitude': 85.011995,\n",
       "   'longitude': -53.638594,\n",
       "   'tags': ['in', 'velit', 'reprehenderit', 'et', 'id', 'tempor', 'minim'],\n",
       "   'friends': [{'id': 0, 'name': 'Bernadette Paul'},\n",
       "    {'id': 1, 'name': 'Erna Johnson'},\n",
       "    {'id': 2, 'name': 'Cherry Francis'}],\n",
       "   'greeting': 'Hello, Jan Gordon! You have 4 unread messages.',\n",
       "   'favoriteFruit': 'banana'},\n",
       "  {'_id': '5cdb266908702ba4e5762562',\n",
       "   'index': 2,\n",
       "   'guid': '1a297e44-b3ed-4802-afd6-e5c47e16c140',\n",
       "   'isActive': True,\n",
       "   'balance': '$1,924.91',\n",
       "   'picture': 'http://placehold.it/32x32',\n",
       "   'age': 21,\n",
       "   'eyeColor': 'brown',\n",
       "   'name': 'Woodard Valentine',\n",
       "   'gender': 'male',\n",
       "   'company': 'APPLICA',\n",
       "   'email': 'woodardvalentine@applica.com',\n",
       "   'phone': '+1 (909) 467-3383',\n",
       "   'address': '609 Murdock Court, Epworth, Georgia, 9461',\n",
       "   'about': 'Ut exercitation magna id magna proident incididunt voluptate laboris. Dolore ipsum ullamco eiusmod elit excepteur. Velit sunt tempor nisi duis non occaecat eu qui culpa veniam et ipsum.\\r\\n',\n",
       "   'registered': '2017-05-29T11:07:32 -06:-30',\n",
       "   'latitude': -58.117667,\n",
       "   'longitude': 160.604136,\n",
       "   'tags': ['cupidatat',\n",
       "    'aliqua',\n",
       "    'ea',\n",
       "    'incididunt',\n",
       "    'in',\n",
       "    'excepteur',\n",
       "    'aliquip'],\n",
       "   'friends': [{'id': 0, 'name': 'Elizabeth Buckley'},\n",
       "    {'id': 1, 'name': 'Estelle Wolf'},\n",
       "    {'id': 2, 'name': 'Francis Woodard'}],\n",
       "   'greeting': 'Hello, Woodard Valentine! You have 6 unread messages.',\n",
       "   'favoriteFruit': 'banana'},\n",
       "  {'_id': '5cdb2669d06dd39491265589',\n",
       "   'index': 3,\n",
       "   'guid': '0d262e61-ffea-4731-909a-6c7a8bb95b9b',\n",
       "   'isActive': True,\n",
       "   'balance': '$1,451.67',\n",
       "   'picture': 'http://placehold.it/32x32',\n",
       "   'age': 22,\n",
       "   'eyeColor': 'brown',\n",
       "   'name': 'Oneil Mcleod',\n",
       "   'gender': 'male',\n",
       "   'company': 'CHORIZON',\n",
       "   'email': 'oneilmcleod@chorizon.com',\n",
       "   'phone': '+1 (800) 590-2624',\n",
       "   'address': '488 Colby Court, Bloomington, Puerto Rico, 5049',\n",
       "   'about': 'Aute mollit ullamco aliquip aute in dolore est. Esse sint aliquip nisi laboris occaecat laboris nulla ad adipisicing culpa amet labore laboris incididunt. Nulla tempor consequat elit consectetur ex quis deserunt officia reprehenderit sunt id qui laborum. Aute irure consectetur dolor ut Lorem occaecat in occaecat deserunt in mollit tempor. Anim voluptate velit voluptate culpa aliquip mollit ut mollit sint culpa dolore nostrud. Commodo aute laboris consequat do proident sit laboris.\\r\\n',\n",
       "   'registered': '2018-04-14T03:37:46 -06:-30',\n",
       "   'latitude': 66.586585,\n",
       "   'longitude': -100.711576,\n",
       "   'tags': ['commodo',\n",
       "    'nisi',\n",
       "    'magna',\n",
       "    'non',\n",
       "    'pariatur',\n",
       "    'exercitation',\n",
       "    'officia'],\n",
       "   'friends': [{'id': 0, 'name': 'Waller Lane'},\n",
       "    {'id': 1, 'name': 'Sharon Noel'},\n",
       "    {'id': 2, 'name': 'Blankenship Bonner'}],\n",
       "   'greeting': 'Hello, Oneil Mcleod! You have 5 unread messages.',\n",
       "   'favoriteFruit': 'banana'},\n",
       "  {'_id': '5cdb2669a24f0a93526278ac',\n",
       "   'index': 4,\n",
       "   'guid': 'f2b3db1c-72a3-4424-bbe5-51006757533c',\n",
       "   'isActive': True,\n",
       "   'balance': '$3,448.40',\n",
       "   'picture': 'http://placehold.it/32x32',\n",
       "   'age': 39,\n",
       "   'eyeColor': 'green',\n",
       "   'name': 'Frieda Irwin',\n",
       "   'gender': 'female',\n",
       "   'company': 'KINETICA',\n",
       "   'email': 'friedairwin@kinetica.com',\n",
       "   'phone': '+1 (947) 553-2417',\n",
       "   'address': '343 Dare Court, Benson, Utah, 3451',\n",
       "   'about': 'Non veniam duis ex pariatur aute ipsum elit consectetur ullamco magna. Et est sit ipsum quis id. Dolor reprehenderit aliqua quis et ullamco minim occaecat veniam aliqua. Enim consequat proident incididunt commodo irure nulla do ullamco officia ipsum laborum fugiat incididunt.\\r\\n',\n",
       "   'registered': '2015-06-05T02:14:49 -06:-30',\n",
       "   'latitude': -34.158248,\n",
       "   'longitude': -61.95496,\n",
       "   'tags': ['eiusmod', 'qui', 'ea', 'ea', 'eu', 'mollit', 'commodo'],\n",
       "   'friends': [{'id': 0, 'name': 'Spence Hernandez'},\n",
       "    {'id': 1, 'name': 'Spears Patrick'},\n",
       "    {'id': 2, 'name': 'Whitney Vincent'}],\n",
       "   'greeting': 'Hello, Frieda Irwin! You have 9 unread messages.',\n",
       "   'favoriteFruit': 'apple'}],)"
      ]
     },
     "execution_count": 6,
     "metadata": {},
     "output_type": "execute_result"
    }
   ],
   "source": [
    "user_data.take(1)"
   ]
  },
  {
   "cell_type": "markdown",
   "metadata": {},
   "source": [
    "### You can even load from compressed files directly"
   ]
  },
  {
   "cell_type": "code",
   "execution_count": 7,
   "metadata": {},
   "outputs": [],
   "source": [
    "user_data = db.read_text('*.xz', \n",
    "                        compression='xz').map(json.loads)"
   ]
  },
  {
   "cell_type": "code",
   "execution_count": 8,
   "metadata": {},
   "outputs": [
    {
     "data": {
      "text/plain": [
       "([{'_id': '5cdb2669d8c733eaa48b5ed5',\n",
       "   'index': 0,\n",
       "   'guid': '627a29dd-69de-4e5b-9ae1-205d6a82432b',\n",
       "   'isActive': False,\n",
       "   'balance': '$3,330.63',\n",
       "   'picture': 'http://placehold.it/32x32',\n",
       "   'age': 34,\n",
       "   'eyeColor': 'brown',\n",
       "   'name': 'Padilla Lee',\n",
       "   'gender': 'male',\n",
       "   'company': 'ENTROFLEX',\n",
       "   'email': 'padillalee@entroflex.com',\n",
       "   'phone': '+1 (827) 527-2949',\n",
       "   'address': '951 Reeve Place, Wacissa, District Of Columbia, 2894',\n",
       "   'about': 'Non nulla fugiat id eu qui ullamco ipsum dolor proident adipisicing ut duis nulla id. Velit ullamco et reprehenderit velit fugiat sunt exercitation pariatur voluptate labore. Proident mollit qui anim dolore pariatur laborum laboris occaecat excepteur tempor labore. Exercitation sint eiusmod ad aliqua sit est laborum enim labore aute consequat cillum incididunt fugiat. Laborum fugiat mollit consectetur commodo occaecat qui magna ex aliqua sunt commodo. Velit irure duis enim ut cupidatat elit cupidatat eiusmod duis nisi in occaecat Lorem. Eiusmod adipisicing ipsum fugiat mollit labore excepteur quis minim excepteur dolor.\\r\\n',\n",
       "   'registered': '2017-05-19T11:55:59 -06:-30',\n",
       "   'latitude': -89.491552,\n",
       "   'longitude': 133.922627,\n",
       "   'tags': ['et', 'sit', 'excepteur', 'duis', 'non', 'eu', 'officia'],\n",
       "   'friends': [{'id': 0, 'name': 'Hensley Gilliam'},\n",
       "    {'id': 1, 'name': 'Brittney Lloyd'},\n",
       "    {'id': 2, 'name': 'West Bridges'}],\n",
       "   'greeting': 'Hello, Padilla Lee! You have 1 unread messages.',\n",
       "   'favoriteFruit': 'strawberry'},\n",
       "  {'_id': '5cdb266951bc7fe6cbee6f12',\n",
       "   'index': 1,\n",
       "   'guid': '46976de1-3d8c-498e-a522-907ad3f66212',\n",
       "   'isActive': False,\n",
       "   'balance': '$3,602.36',\n",
       "   'picture': 'http://placehold.it/32x32',\n",
       "   'age': 31,\n",
       "   'eyeColor': 'green',\n",
       "   'name': 'Jan Gordon',\n",
       "   'gender': 'female',\n",
       "   'company': 'HINWAY',\n",
       "   'email': 'jangordon@hinway.com',\n",
       "   'phone': '+1 (861) 523-2518',\n",
       "   'address': '922 Chester Street, Gibbsville, South Carolina, 7798',\n",
       "   'about': 'Proident ex consequat consequat labore labore veniam nisi ut. Elit fugiat consectetur deserunt occaecat velit non reprehenderit laborum eiusmod. Consectetur tempor consectetur excepteur do cillum deserunt incididunt adipisicing dolor elit reprehenderit duis consectetur. Mollit enim reprehenderit sit laborum commodo aliqua eiusmod mollit culpa cillum. Aliqua et velit labore incididunt labore nulla incididunt amet veniam sunt reprehenderit ad id. Esse ad reprehenderit et ea ex esse nostrud.\\r\\n',\n",
       "   'registered': '2014-12-25T03:41:49 -06:-30',\n",
       "   'latitude': 85.011995,\n",
       "   'longitude': -53.638594,\n",
       "   'tags': ['in', 'velit', 'reprehenderit', 'et', 'id', 'tempor', 'minim'],\n",
       "   'friends': [{'id': 0, 'name': 'Bernadette Paul'},\n",
       "    {'id': 1, 'name': 'Erna Johnson'},\n",
       "    {'id': 2, 'name': 'Cherry Francis'}],\n",
       "   'greeting': 'Hello, Jan Gordon! You have 4 unread messages.',\n",
       "   'favoriteFruit': 'banana'},\n",
       "  {'_id': '5cdb266908702ba4e5762562',\n",
       "   'index': 2,\n",
       "   'guid': '1a297e44-b3ed-4802-afd6-e5c47e16c140',\n",
       "   'isActive': True,\n",
       "   'balance': '$1,924.91',\n",
       "   'picture': 'http://placehold.it/32x32',\n",
       "   'age': 21,\n",
       "   'eyeColor': 'brown',\n",
       "   'name': 'Woodard Valentine',\n",
       "   'gender': 'male',\n",
       "   'company': 'APPLICA',\n",
       "   'email': 'woodardvalentine@applica.com',\n",
       "   'phone': '+1 (909) 467-3383',\n",
       "   'address': '609 Murdock Court, Epworth, Georgia, 9461',\n",
       "   'about': 'Ut exercitation magna id magna proident incididunt voluptate laboris. Dolore ipsum ullamco eiusmod elit excepteur. Velit sunt tempor nisi duis non occaecat eu qui culpa veniam et ipsum.\\r\\n',\n",
       "   'registered': '2017-05-29T11:07:32 -06:-30',\n",
       "   'latitude': -58.117667,\n",
       "   'longitude': 160.604136,\n",
       "   'tags': ['cupidatat',\n",
       "    'aliqua',\n",
       "    'ea',\n",
       "    'incididunt',\n",
       "    'in',\n",
       "    'excepteur',\n",
       "    'aliquip'],\n",
       "   'friends': [{'id': 0, 'name': 'Elizabeth Buckley'},\n",
       "    {'id': 1, 'name': 'Estelle Wolf'},\n",
       "    {'id': 2, 'name': 'Francis Woodard'}],\n",
       "   'greeting': 'Hello, Woodard Valentine! You have 6 unread messages.',\n",
       "   'favoriteFruit': 'banana'},\n",
       "  {'_id': '5cdb2669d06dd39491265589',\n",
       "   'index': 3,\n",
       "   'guid': '0d262e61-ffea-4731-909a-6c7a8bb95b9b',\n",
       "   'isActive': True,\n",
       "   'balance': '$1,451.67',\n",
       "   'picture': 'http://placehold.it/32x32',\n",
       "   'age': 22,\n",
       "   'eyeColor': 'brown',\n",
       "   'name': 'Oneil Mcleod',\n",
       "   'gender': 'male',\n",
       "   'company': 'CHORIZON',\n",
       "   'email': 'oneilmcleod@chorizon.com',\n",
       "   'phone': '+1 (800) 590-2624',\n",
       "   'address': '488 Colby Court, Bloomington, Puerto Rico, 5049',\n",
       "   'about': 'Aute mollit ullamco aliquip aute in dolore est. Esse sint aliquip nisi laboris occaecat laboris nulla ad adipisicing culpa amet labore laboris incididunt. Nulla tempor consequat elit consectetur ex quis deserunt officia reprehenderit sunt id qui laborum. Aute irure consectetur dolor ut Lorem occaecat in occaecat deserunt in mollit tempor. Anim voluptate velit voluptate culpa aliquip mollit ut mollit sint culpa dolore nostrud. Commodo aute laboris consequat do proident sit laboris.\\r\\n',\n",
       "   'registered': '2018-04-14T03:37:46 -06:-30',\n",
       "   'latitude': 66.586585,\n",
       "   'longitude': -100.711576,\n",
       "   'tags': ['commodo',\n",
       "    'nisi',\n",
       "    'magna',\n",
       "    'non',\n",
       "    'pariatur',\n",
       "    'exercitation',\n",
       "    'officia'],\n",
       "   'friends': [{'id': 0, 'name': 'Waller Lane'},\n",
       "    {'id': 1, 'name': 'Sharon Noel'},\n",
       "    {'id': 2, 'name': 'Blankenship Bonner'}],\n",
       "   'greeting': 'Hello, Oneil Mcleod! You have 5 unread messages.',\n",
       "   'favoriteFruit': 'banana'},\n",
       "  {'_id': '5cdb2669a24f0a93526278ac',\n",
       "   'index': 4,\n",
       "   'guid': 'f2b3db1c-72a3-4424-bbe5-51006757533c',\n",
       "   'isActive': True,\n",
       "   'balance': '$3,448.40',\n",
       "   'picture': 'http://placehold.it/32x32',\n",
       "   'age': 39,\n",
       "   'eyeColor': 'green',\n",
       "   'name': 'Frieda Irwin',\n",
       "   'gender': 'female',\n",
       "   'company': 'KINETICA',\n",
       "   'email': 'friedairwin@kinetica.com',\n",
       "   'phone': '+1 (947) 553-2417',\n",
       "   'address': '343 Dare Court, Benson, Utah, 3451',\n",
       "   'about': 'Non veniam duis ex pariatur aute ipsum elit consectetur ullamco magna. Et est sit ipsum quis id. Dolor reprehenderit aliqua quis et ullamco minim occaecat veniam aliqua. Enim consequat proident incididunt commodo irure nulla do ullamco officia ipsum laborum fugiat incididunt.\\r\\n',\n",
       "   'registered': '2015-06-05T02:14:49 -06:-30',\n",
       "   'latitude': -34.158248,\n",
       "   'longitude': -61.95496,\n",
       "   'tags': ['eiusmod', 'qui', 'ea', 'ea', 'eu', 'mollit', 'commodo'],\n",
       "   'friends': [{'id': 0, 'name': 'Spence Hernandez'},\n",
       "    {'id': 1, 'name': 'Spears Patrick'},\n",
       "    {'id': 2, 'name': 'Whitney Vincent'}],\n",
       "   'greeting': 'Hello, Frieda Irwin! You have 9 unread messages.',\n",
       "   'favoriteFruit': 'apple'}],)"
      ]
     },
     "execution_count": 8,
     "metadata": {},
     "output_type": "execute_result"
    }
   ],
   "source": [
    "user_data.take(1)"
   ]
  },
  {
   "cell_type": "markdown",
   "metadata": {},
   "source": [
    "### Or even pass a list of files"
   ]
  },
  {
   "cell_type": "code",
   "execution_count": 9,
   "metadata": {},
   "outputs": [
    {
     "name": "stdout",
     "output_type": "stream",
     "text": [
      "File list is ['multiple_csvs/gdp_part_0.csv', 'multiple_csvs/gdp_part_1.csv', 'multiple_csvs/gdp_part_2.csv', 'multiple_csvs/gdp_part_3.csv', 'multiple_csvs/gdp_part_4.csv', 'multiple_csvs/gdp_part_5.csv', 'multiple_csvs/gdp_part_6.csv', 'multiple_csvs/gdp_part_7.csv', 'multiple_csvs/gdp_part_8.csv', 'multiple_csvs/gdp_part_9.csv']\n"
     ]
    },
    {
     "data": {
      "text/plain": [
       "(',country,gdp,year\\n',\n",
       " '0,India,2650725335363.83,2017\\n',\n",
       " '1,India,2290432075123.55,2016\\n',\n",
       " '2,India,2103587813812.2,2015\\n',\n",
       " '3,India,2039127446299.3,2014\\n',\n",
       " '4,India,1856722121394.42,2013\\n',\n",
       " '5,India,1827637859136.23,2012\\n',\n",
       " '6,India,1823049927772.05,2011\\n',\n",
       " '7,India,1675615312693.42,2010\\n',\n",
       " '8,India,1341886699393.18,2009\\n')"
      ]
     },
     "execution_count": 9,
     "metadata": {},
     "output_type": "execute_result"
    }
   ],
   "source": [
    "import os\n",
    "\n",
    "file_list = ['gdp_part_' + str(part) + '.csv'\n",
    "             for part in range(0, 10)]\n",
    "complete_path = [os.path.join('multiple_csvs', f_name) \n",
    "                for f_name in file_list]\n",
    "\n",
    "print(\"File list is {}\".format(complete_path))\n",
    "\n",
    "user_db = db.read_text(complete_path)\n",
    "user_db.take(10)"
   ]
  },
  {
   "cell_type": "markdown",
   "metadata": {},
   "source": [
    "## Creating Bags from a sequence"
   ]
  },
  {
   "cell_type": "code",
   "execution_count": 10,
   "metadata": {},
   "outputs": [],
   "source": [
    "first_names = ['John', 'Jimmy', 'Bob', 'Alice', 'Rebbecca',\n",
    "               'Rahul', 'Robin','Eva', 'Monika', 'Raman', 'Jay',\n",
    "               'Chris', 'Lee', 'Bruce', 'Alan', 'Arthur',\n",
    "               'Peter', 'Johnny', 'Sasha', 'Meera', 'Lily',\n",
    "               'Aaron']\n"
   ]
  },
  {
   "cell_type": "code",
   "execution_count": 11,
   "metadata": {},
   "outputs": [],
   "source": [
    "seq_bag = db.from_sequence(first_names, npartitions=3)"
   ]
  },
  {
   "cell_type": "code",
   "execution_count": 12,
   "metadata": {},
   "outputs": [],
   "source": [
    "second_name_bag = db.from_sequence(first_names, npartitions=3).map(lambda x: x + ' Generic Second Name')"
   ]
  },
  {
   "cell_type": "code",
   "execution_count": 13,
   "metadata": {},
   "outputs": [
    {
     "data": {
      "text/plain": [
       "('John Generic Second Name', 'Jimmy Generic Second Name')"
      ]
     },
     "execution_count": 13,
     "metadata": {},
     "output_type": "execute_result"
    }
   ],
   "source": [
    "second_name_bag.take(2)"
   ]
  },
  {
   "cell_type": "markdown",
   "metadata": {},
   "source": [
    "## Creating Dask Bags from URL"
   ]
  },
  {
   "cell_type": "markdown",
   "metadata": {},
   "source": [
    "### Reference : https://www.gutenberg.org/"
   ]
  },
  {
   "cell_type": "code",
   "execution_count": 14,
   "metadata": {},
   "outputs": [],
   "source": [
    "pride_prejudice_bag = db.from_url('https://www.gutenberg.org/files/1342/1342-0.txt')"
   ]
  },
  {
   "cell_type": "code",
   "execution_count": 15,
   "metadata": {},
   "outputs": [
    {
     "data": {
      "text/plain": [
       "(b'\\xef\\xbb\\xbfThe Project Gutenberg EBook of Pride and Prejudice, by Jane Austen\\r\\n',\n",
       " b'\\r\\n',\n",
       " b'This eBook is for the use of anyone anywhere at no cost and with\\r\\n',\n",
       " b'almost no restrictions whatsoever.  You may copy it, give it away or\\r\\n',\n",
       " b're-use it under the terms of the Project Gutenberg License included\\r\\n',\n",
       " b'with this eBook or online at www.gutenberg.org\\r\\n',\n",
       " b'\\r\\n',\n",
       " b'\\r\\n',\n",
       " b'Title: Pride and Prejudice\\r\\n',\n",
       " b'\\r\\n',\n",
       " b'Author: Jane Austen\\r\\n',\n",
       " b'\\r\\n',\n",
       " b'Posting Date: August 26, 2008 [EBook #1342]\\r\\n',\n",
       " b'Release Date: June, 1998\\r\\n',\n",
       " b'Last Updated: March 10, 2018\\r\\n',\n",
       " b'\\r\\n',\n",
       " b'Language: English\\r\\n',\n",
       " b'\\r\\n',\n",
       " b'Character set encoding: UTF-8\\r\\n',\n",
       " b'\\r\\n')"
      ]
     },
     "execution_count": 15,
     "metadata": {},
     "output_type": "execute_result"
    }
   ],
   "source": [
    "pride_prejudice_bag.take(20)"
   ]
  },
  {
   "cell_type": "markdown",
   "metadata": {},
   "source": [
    "#### Other Methods include `read_avro` and `from_delayed`. See http://docs.dask.org/en/latest/bag-creation.html# for more info"
   ]
  },
  {
   "cell_type": "markdown",
   "metadata": {},
   "source": [
    "# Storing Dask Bags"
   ]
  },
  {
   "cell_type": "markdown",
   "metadata": {},
   "source": [
    "### `to_text_files` method"
   ]
  },
  {
   "cell_type": "code",
   "execution_count": 16,
   "metadata": {},
   "outputs": [],
   "source": [
    "books_url = ['https://www.gutenberg.org/files/84/84-0.txt',\n",
    "            'https://www.gutenberg.org/files/11/11-0.txt',\n",
    "            'https://www.gutenberg.org/files/98/98-0.txt',\n",
    "            'https://www.gutenberg.org/files/2600/2600-0.txt']\n",
    "books_data = db.from_url(books_url)"
   ]
  },
  {
   "cell_type": "code",
   "execution_count": 17,
   "metadata": {},
   "outputs": [
    {
     "data": {
      "text/plain": [
       "4"
      ]
     },
     "execution_count": 17,
     "metadata": {},
     "output_type": "execute_result"
    }
   ],
   "source": [
    "books_data.npartitions"
   ]
  },
  {
   "cell_type": "code",
   "execution_count": 18,
   "metadata": {},
   "outputs": [
    {
     "data": {
      "text/plain": [
       "['user_data/processed_0.txt',\n",
       " 'user_data/processed_1.txt',\n",
       " 'user_data/processed_2.txt',\n",
       " 'user_data/processed_3.txt']"
      ]
     },
     "execution_count": 18,
     "metadata": {},
     "output_type": "execute_result"
    }
   ],
   "source": [
    "books_data.to_textfiles('user_data/processed_*.txt')"
   ]
  },
  {
   "cell_type": "markdown",
   "metadata": {},
   "source": [
    "### You can specify your custom names as well"
   ]
  },
  {
   "cell_type": "code",
   "execution_count": 19,
   "metadata": {},
   "outputs": [],
   "source": [
    "def file_name_func(x):\n",
    "    return 'part_' + str(x)"
   ]
  },
  {
   "cell_type": "code",
   "execution_count": 20,
   "metadata": {},
   "outputs": [
    {
     "data": {
      "text/plain": [
       "['user_data/processed_part_0.txt',\n",
       " 'user_data/processed_part_1.txt',\n",
       " 'user_data/processed_part_2.txt',\n",
       " 'user_data/processed_part_3.txt']"
      ]
     },
     "execution_count": 20,
     "metadata": {},
     "output_type": "execute_result"
    }
   ],
   "source": [
    "books_data.to_textfiles('user_data/processed_*.txt',\n",
    "                                name_function=file_name_func)"
   ]
  },
  {
   "cell_type": "code",
   "execution_count": null,
   "metadata": {},
   "outputs": [],
   "source": []
  }
 ],
 "metadata": {
  "kernelspec": {
   "display_name": "Python 3",
   "language": "python",
   "name": "python3"
  },
  "language_info": {
   "codemirror_mode": {
    "name": "ipython",
    "version": 3
   },
   "file_extension": ".py",
   "mimetype": "text/x-python",
   "name": "python",
   "nbconvert_exporter": "python",
   "pygments_lexer": "ipython3",
   "version": "3.7.1"
  }
 },
 "nbformat": 4,
 "nbformat_minor": 2
}
